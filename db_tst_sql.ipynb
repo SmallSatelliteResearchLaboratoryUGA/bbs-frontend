{
 "cells": [
  {
   "cell_type": "code",
   "execution_count": 1,
   "metadata": {},
   "outputs": [
    {
     "name": "stdout",
     "output_type": "stream",
     "text": [
      "Defaulting to user installation because normal site-packages is not writeable\n",
      "Requirement already satisfied: mysql-connector-python in /home/g83r/.local/lib/python3.10/site-packages (8.3.0)\n",
      "Note: you may need to restart the kernel to use updated packages.\n"
     ]
    }
   ],
   "source": [
    "%pip install mysql-connector-python\n",
    "import mysql.connector "
   ]
  },
  {
   "cell_type": "code",
   "execution_count": 2,
   "metadata": {},
   "outputs": [],
   "source": [
    "conn = mysql.connector.connect(\n",
    "    host=\"localhost\",\n",
    "    user=\"g83r\", \n",
    "    password=\"password\",\n",
    "    database=\"memesite_sample_db\"\n",
    ")\n",
    "\n",
    "cursor = conn.cursor()\n"
   ]
  },
  {
   "cell_type": "code",
   "execution_count": 4,
   "metadata": {},
   "outputs": [
    {
     "name": "stdout",
     "output_type": "stream",
     "text": [
      "('Posts',)\n",
      "('Roles',)\n",
      "('UserTable',)\n"
     ]
    }
   ],
   "source": [
    "query = \"\"\"\n",
    "        create table if not exists UserTable\n",
    "        (\n",
    "            id int auto_increment primary key,\n",
    "            username varchar(255) not null,\n",
    "            password varchar(255) not null\n",
    "        )\n",
    "        \"\"\"\n",
    "cursor.execute(query)\n",
    "query = \"\"\"\n",
    "        create table if not exists Posts\n",
    "        (\n",
    "            id int auto_increment primary key,\n",
    "            callsign varchar(255) not null,\n",
    "            content varchar(255) not null,\n",
    "            time_created datetime not null\n",
    "        )\n",
    "        \"\"\" \n",
    "cursor.execute(query)\n",
    "query = \"\"\"\n",
    "        create table if not exists Roles\n",
    "        (\n",
    "            id int auto_increment primary key,\n",
    "            callsign varchar(255) not null,\n",
    "            role varchar(255) not null\n",
    "        )\n",
    "        \"\"\"\n",
    "cursor.execute(query)\n",
    "\n",
    "query = 'show tables'\n",
    "cursor.execute(query)\n",
    "for result in cursor:\n",
    "    print(result)"
   ]
  },
  {
   "cell_type": "code",
   "execution_count": null,
   "metadata": {},
   "outputs": [],
   "source": [
    "query = \"\"\"\n",
    "        insert into UserTable (username, password)\n",
    "        values ('g83r', 'password')\n",
    "        \"\"\"\n",
    "cursor.execute(query)\n",
    "\n",
    "query = \"\"\"\n",
    "        insert into UserTable (username, password)\n",
    "        values ('g83r2', 'password2')\n",
    "        \"\"\"\n",
    "cursor.execute(query)\n",
    "\n",
    "query = \"\"\"\n",
    "        insert into UserTable (username, password)\n",
    "        values ('g83r3', 'password3')\n",
    "        \"\"\"\n",
    "cursor.execute(query)\n",
    "\n",
    "query = \"\"\"\n",
    "        insert into Posts (callsign, content, time_created)\n",
    "        values ('g83r', 'Hello World', '2021-01-01 12:00:00')\n",
    "        \"\"\"\n",
    "cursor.execute(query)\n",
    "\n",
    "query = \"\"\"\n",
    "        insert into Posts (callsign, content, time_created)\n",
    "        values ('g83r2', 'Hello World2', '2021-01-01 12:00:00')\n",
    "        \"\"\"\n",
    "cursor.execute(query)\n",
    "\n",
    "query = \"\"\"\n",
    "        insert into Posts (callsign, content, time_created)\n",
    "        values ('g83r3', 'Hello World3', '2021-01-01 12:00:00')\n",
    "        \"\"\"\n",
    "cursor.execute(query)\n",
    "\n",
    "query = \"\"\"\n",
    "        insert into Roles (callsign, role)\n",
    "        values ('g83r', 'admin')\n",
    "        \"\"\"\n",
    "cursor.execute(query)\n",
    "\n",
    "query = \"\"\"\n",
    "        insert into Roles (callsign, role)\n",
    "        values ('g83r2', 'user')\n",
    "        \"\"\"\n",
    "cursor.execute(query)"
   ]
  }
 ],
 "metadata": {
  "kernelspec": {
   "display_name": "Python 3",
   "language": "python",
   "name": "python3"
  },
  "language_info": {
   "codemirror_mode": {
    "name": "ipython",
    "version": 3
   },
   "file_extension": ".py",
   "mimetype": "text/x-python",
   "name": "python",
   "nbconvert_exporter": "python",
   "pygments_lexer": "ipython3",
   "version": "3.10.12"
  }
 },
 "nbformat": 4,
 "nbformat_minor": 2
}
