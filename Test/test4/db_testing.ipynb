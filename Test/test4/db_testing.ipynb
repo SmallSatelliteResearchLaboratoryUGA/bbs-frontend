{
 "cells": [
  {
   "cell_type": "code",
   "execution_count": 1,
   "metadata": {},
   "outputs": [
    {
     "name": "stdout",
     "output_type": "stream",
     "text": [
      "Defaulting to user installation because normal site-packages is not writeable\n",
      "Requirement already satisfied: mysql-connector-python in /home/g83r/.local/lib/python3.10/site-packages (8.3.0)\n",
      "Note: you may need to restart the kernel to use updated packages.\n"
     ]
    }
   ],
   "source": [
    "%pip install mysql-connector-python"
   ]
  },
  {
   "cell_type": "code",
   "execution_count": 2,
   "metadata": {},
   "outputs": [],
   "source": [
    "import sqlite3\n",
    "import binascii"
   ]
  },
  {
   "cell_type": "code",
   "execution_count": 3,
   "metadata": {},
   "outputs": [],
   "source": [
    "conn = sqlite3.connect('test.db')"
   ]
  },
  {
   "cell_type": "code",
   "execution_count": 4,
   "metadata": {},
   "outputs": [
    {
     "data": {
      "text/plain": [
       "<sqlite3.Cursor at 0x7f26e85a69c0>"
      ]
     },
     "execution_count": 4,
     "metadata": {},
     "output_type": "execute_result"
    }
   ],
   "source": [
    "cursor = conn.cursor()\n",
    "\n",
    "cursor.execute(\"CREATE TABLE IF NOT EXISTS UserTable \" +\n",
    "               \"(id INTEGER PRIMARY KEY AUTOINCREMENT, \" + \n",
    "               \" username TEXT, \" + \n",
    "               \" callsign TEXT, \" +\n",
    "               \" passwordhash TEXT, \" +\n",
    "               \" email TEXT\" +\n",
    "               \")\")\n",
    "\n",
    "cursor.execute(\"CREATE TABLE IF NOT EXISTS Posts \" +\n",
    "               \"(id INTEGER PRIMARY KEY AUTOINCREMENT, \" + \n",
    "               \" callsign TEXT, \" +\n",
    "               \" content TEXT, \" +\n",
    "               \" time_created TEXT\" +\n",
    "               \")\")\n",
    "\n",
    "cursor.execute(\"CREATE TABLE IF NOT EXISTS Roles \" +\n",
    "                \"(id INTEGER PRIMARY KEY AUTOINCREMENT, \" + \n",
    "                \" callsign TEXT, \" +\n",
    "                \" role TEXT\" +\n",
    "                \")\")"
   ]
  },
  {
   "cell_type": "code",
   "execution_count": 5,
   "metadata": {},
   "outputs": [],
   "source": [
    "### test "
   ]
  },
  {
   "cell_type": "code",
   "execution_count": 6,
   "metadata": {},
   "outputs": [
    {
     "data": {
      "text/plain": [
       "<sqlite3.Cursor at 0x7f26e85a69c0>"
      ]
     },
     "execution_count": 6,
     "metadata": {},
     "output_type": "execute_result"
    }
   ],
   "source": [
    "cursor.execute(\"select * from UserTable\")\n",
    "cursor.execute(\"select * from Posts\")"
   ]
  },
  {
   "cell_type": "markdown",
   "metadata": {},
   "source": [
    "### test 1 "
   ]
  },
  {
   "cell_type": "code",
   "execution_count": 7,
   "metadata": {},
   "outputs": [
    {
     "data": {
      "text/plain": [
       "<sqlite3.Cursor at 0x7f26e85a69c0>"
      ]
     },
     "execution_count": 7,
     "metadata": {},
     "output_type": "execute_result"
    }
   ],
   "source": [
    "cursor.execute(\"insert into Posts (callsign, content, time_created) values ('test', 'test', 'test')\")"
   ]
  },
  {
   "cell_type": "markdown",
   "metadata": {},
   "source": [
    "### Read file as binary "
   ]
  },
  {
   "cell_type": "code",
   "execution_count": 8,
   "metadata": {},
   "outputs": [],
   "source": [
    "file01, file02, file03 = (\"25x25.jpg\", \"50x50.jpg\", \"100x100.jpg\")\n",
    "with open ('resources/'+file01, 'rb') as f01: \n",
    "    content1 = f01.read()\n",
    "with open ('resources/'+file02, 'rb') as f02:\n",
    "    content2 = f02.read()\n",
    "with open ('resources/'+file03, 'rb') as f03:\n",
    "    content3 = f03.read()"
   ]
  },
  {
   "cell_type": "markdown",
   "metadata": {},
   "source": [
    "### convert file to hex"
   ]
  },
  {
   "cell_type": "code",
   "execution_count": 9,
   "metadata": {},
   "outputs": [],
   "source": [
    "content1 = binascii.b2a_base64(content1).decode('utf-8')\n",
    "content2 = binascii.b2a_base64(content2).decode('utf-8')\n",
    "content3 = binascii.b2a_base64(content3).decode('utf-8')"
   ]
  },
  {
   "cell_type": "markdown",
   "metadata": {},
   "source": [
    "### insert testing posts "
   ]
  },
  {
   "cell_type": "code",
   "execution_count": 10,
   "metadata": {},
   "outputs": [],
   "source": [
    "\n",
    "\n",
    "cursor.execute(\"select * from UserTable\")\n",
    "users_insert_01 = \"insert into UserTable (username, callsign, passwordhash, email) values ('promiscuousUserName', 'ZY4OOI', '09824tf98ry4washydkfha', 'mark@zucc.com')\"\n",
    "users_insert_02 = \"insert into UserTable (username, callsign, passwordhash, email) values ('NSFWAccName', 'YR2UUE', 'kldshsldhfsjkdhfouihioeshrpgh', 'yourmother@herhouse.com')\"\n",
    "users_insert_03 = \"insert into UserTable (username, callsign, passwordhash, email) values ('REALLYBADNAME', 'SW3ERR', 'osi8dyufgwe8gidhfihs8098dddd', 'deeze@nutz.edu')\"\n",
    "cursor.execute(users_insert_01)\n",
    "cursor.execute(users_insert_02)\n",
    "cursor.execute(users_insert_03)\n",
    "\n",
    "conn.commit()"
   ]
  },
  {
   "cell_type": "code",
   "execution_count": 11,
   "metadata": {},
   "outputs": [],
   "source": [
    "post_insert_01 = \"insert into Posts (callsign, content, time_created) values ('ZY4OOI', '\"+content1+\"', '0300.000.000')\"\n",
    "post_insert_02 = \"insert into Posts (callsign, content, time_created) values ('YR2UUE', '\"+content2+\"', '0300.111.000')\"\n",
    "post_insert_03 = \"insert into Posts (callsign, content, time_created) values ('SW3ERR', '\"+content3+\"', '0300.222.000')\"\n",
    "cursor.execute(post_insert_01)\n",
    "cursor.execute(post_insert_02)\n",
    "cursor.execute(post_insert_03)\n",
    "\n",
    "conn.commit()"
   ]
  },
  {
   "cell_type": "markdown",
   "metadata": {},
   "source": [
    "Callsign length: \n",
    "    6 characters :: 2c 1d 3c"
   ]
  },
  {
   "cell_type": "markdown",
   "metadata": {},
   "source": [
    "Users\n",
    "    id, \n",
    "    email, \n",
    "    password-hash, \n",
    "    callsign\n",
    "\n",
    "Posts \n",
    "    id, title, content, time_created,\n",
    "       private id: callsign\n",
    "\n",
    "    ( Verified ) \n",
    "    ( Unverified )\n",
    "    ( Banned ) \n",
    "\n",
    "Roles  \n",
    "    ( Users ) \n",
    "    ( Admin ) \n",
    "    ( Memer )\n",
    "\n",
    "Permissions \n",
    "    ( )\n",
    "\n",
    "\n",
    "\n"
   ]
  },
  {
   "cell_type": "code",
   "execution_count": 12,
   "metadata": {},
   "outputs": [],
   "source": [
    "conn.commit()\n",
    "conn.close()"
   ]
  }
 ],
 "metadata": {
  "kernelspec": {
   "display_name": "Python 3",
   "language": "python",
   "name": "python3"
  },
  "language_info": {
   "codemirror_mode": {
    "name": "ipython",
    "version": 3
   },
   "file_extension": ".py",
   "mimetype": "text/x-python",
   "name": "python",
   "nbconvert_exporter": "python",
   "pygments_lexer": "ipython3",
   "version": "3.10.12"
  }
 },
 "nbformat": 4,
 "nbformat_minor": 2
}
